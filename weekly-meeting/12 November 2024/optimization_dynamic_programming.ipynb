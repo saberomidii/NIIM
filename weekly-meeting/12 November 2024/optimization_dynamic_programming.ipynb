{
 "cells": [
  {
   "cell_type": "code",
   "execution_count": null,
   "metadata": {
    "vscode": {
     "languageId": "plaintext"
    }
   },
   "outputs": [],
   "source": [
    "import numpy as np\n",
    "import math\n",
    "from itertools import product\n",
    "\n",
    "def create_value_function(time, dt, lower_bounds_states, upper_bounds_states, discretization_factors_states,\n",
    "                          lower_bounds_inputs, upper_bounds_inputs, discretization_factors_inputs, decimals=4):\n",
    "    \"\"\"\n",
    "    Creates a value function data structure for dynamic programming that includes states, inputs, and time steps.\n",
    "\n",
    "    Parameters:\n",
    "    - time (float): Total time duration.\n",
    "    - dt (float): Time step increment.\n",
    "    - lower_bounds_states (list of floats): Lower bounds for each state variable.\n",
    "    - upper_bounds_states (list of floats): Upper bounds for each state variable.\n",
    "    - discretization_factors_states (list of floats): Discretization steps for each state variable.\n",
    "    - lower_bounds_inputs (list of floats): Lower bounds for each input variable.\n",
    "    - upper_bounds_inputs (list of floats): Upper bounds for each input variable.\n",
    "    - discretization_factors_inputs (list of floats): Discretization steps for each input variable.\n",
    "    - decimals (int): Number of decimal places to round to.\n",
    "\n",
    "    Returns:\n",
    "    - value_function (list of dicts): List where each element is a dictionary representing\n",
    "      the value function at a specific time step. Keys are (state, input, time_step), values are None.\n",
    "    \"\"\"\n",
    "\n",
    "    num_time_steps = int(time / dt)\n",
    "    value_function = []\n",
    "\n",
    "    # Generate discretized states for each state variable with rounding\n",
    "    state_grids = []\n",
    "    for lb, ub, step in zip(lower_bounds_states, upper_bounds_states, discretization_factors_states):\n",
    "        num_steps = int(round((ub - lb) / step)) + 1\n",
    "        grid = np.linspace(lb, ub, num=num_steps)\n",
    "        grid = np.round(grid, decimals=decimals)\n",
    "        state_grids.append(grid)\n",
    "        print(f\"State grid from {lb} to {ub} with step {step}: {grid}\")\n",
    "\n",
    "    # Generate discretized inputs for each input variable with rounding\n",
    "    input_grids = []\n",
    "    for lb, ub, step in zip(lower_bounds_inputs, upper_bounds_inputs, discretization_factors_inputs):\n",
    "        num_steps = int(round((ub - lb) / step)) + 1\n",
    "        grid = np.linspace(lb, ub, num=num_steps)\n",
    "        grid = np.round(grid, decimals=decimals)\n",
    "        input_grids.append(grid)\n",
    "        print(f\"Input grid from {lb} to {ub} with step {step}: {grid}\")\n",
    "\n",
    "    # Create a grid of all possible states and inputs\n",
    "    all_states = list(product(*state_grids))\n",
    "    all_inputs = list(product(*input_grids))\n",
    "\n",
    "    # Iterate over each time step\n",
    "    for time_step in range(num_time_steps + 1):\n",
    "        # Initialize dictionary for this time step\n",
    "        time_step_dict = {}\n",
    "        for state in all_states:\n",
    "            for input_val in all_inputs:\n",
    "                # Key is (state, input, time_step); value is None\n",
    "                key = (state, input_val, time_step)\n",
    "                time_step_dict[key] = None\n",
    "        value_function.append(time_step_dict)\n",
    "\n",
    "    return value_function\n"
   ]
  },
  {
   "cell_type": "code",
   "execution_count": null,
   "metadata": {
    "vscode": {
     "languageId": "plaintext"
    }
   },
   "outputs": [],
   "source": []
  }
 ],
 "metadata": {
  "language_info": {
   "name": "python"
  }
 },
 "nbformat": 4,
 "nbformat_minor": 2
}
