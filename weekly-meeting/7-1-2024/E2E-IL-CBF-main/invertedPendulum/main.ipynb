{
 "cells": [
  {
   "cell_type": "markdown",
   "metadata": {},
   "source": [
    "<div style=\"font-family: 'Times New Roman'; color: yellow; font-size: 24px;\">\n",
    "    <strong>This file critically examines the concept presented in the paper and regenerates the relevant data.</strong>\n",
    "</div>"
   ]
  },
  {
   "cell_type": "markdown",
   "metadata": {},
   "source": [
    "### <span style=\"font-family: 'Times New Roman'; color: orange;\">The Controllers.py file</span>"
   ]
  },
  {
   "cell_type": "code",
   "execution_count": 1,
   "metadata": {},
   "outputs": [],
   "source": [
    "import numpy as np\n",
    "from cosner_utils.plotting_utils import *\n",
    "import matplotlib.pyplot as plt\n",
    "import scipy as sp\n",
    "import ecos"
   ]
  },
  {
   "cell_type": "markdown",
   "metadata": {},
   "source": [
    "- **NumPy (`import numpy as np`)**:\n",
    "    NumPy is a fundamental package for scientific computing with Python. It provides support for arrays,<br>\n",
    "    matrices, and many mathematical functions to operate on these data structures efficiently.<br>\n",
    "    It is widely used in data analysis, numerical simulations, and as a base for other scientific libraries.<br>\n",
    "\n",
    "- **Cosner Utils (`from cosner_utils.plotting_utils import *`)**:\n",
    "    This appears to be a custom utility module, likely specific to a particular project or organization. <br>\n",
    "    The `plotting_utils` module within `cosner_utils` <br>\n",
    "    suggests that it contains various plotting functions and tools to help visualize data more effectively.<br>\n",
    "\n",
    "- **SciPy (`import scipy as sp`)**:\n",
    "    SciPy is an open-source Python library used for scientific and technical computing.<br> \n",
    "    It builds on NumPy and provides a large number of functions for numerical integration, <br>\n",
    "    optimization, linear algebra, signal processing, and more. <br>\n",
    "    It is an essential tool for data analysis and scientific research.<br>\n",
    "\n",
    "- **ECOS (`import ecos`)**:\n",
    "    ECOS is a numerical optimization package for solving convex problems.<br>\n",
    "    It stands for Embedded Conic Solver and is particularly efficient for problems expressed<br>\n",
    "     in terms of conic programming, such as linear and second-order cone programming.<br>\n",
    "     It is often used in control systems, finance, and other fields requiring robust optimization solutions.<br>\n"
   ]
  },
  {
   "cell_type": "code",
   "execution_count": 2,
   "metadata": {},
   "outputs": [],
   "source": [
    "# pi = np.pi\n",
    "TURN_CBF = True\n",
    "turn_delta = 0.1"
   ]
  },
  {
   "cell_type": "code",
   "execution_count": 3,
   "metadata": {},
   "outputs": [],
   "source": [
    "# Parameters\n",
    "theta_values = np.linspace(0, np.pi, 100)  # Array of theta values from 0 to 2π\n",
    "l = 10  # Length of the line\n",
    "w = 5   # Width of the line\n",
    "offset = 0\n",
    "\n",
    "# Initialize arrays for results\n",
    "radii = []\n",
    "directions = []\n",
    "theta_filtered = []"
   ]
  },
  {
   "cell_type": "code",
   "execution_count": 4,
   "metadata": {},
   "outputs": [
    {
     "ename": "",
     "evalue": "",
     "output_type": "error",
     "traceback": [
      "\u001b[1;31mThe Kernel crashed while executing code in the current cell or a previous cell. \n",
      "\u001b[1;31mPlease review the code in the cell(s) to identify a possible cause of the failure. \n",
      "\u001b[1;31mClick <a href='https://aka.ms/vscodeJupyterKernelCrash'>here</a> for more info. \n",
      "\u001b[1;31mView Jupyter <a href='command:jupyter.viewOutput'>log</a> for further details."
     ]
    }
   ],
   "source": [
    "# Parameters\n",
    "theta_values = np.linspace(0, np.pi, 100)  # Array of theta values from 0 to 2π\n",
    "l = 10  # Length of the line\n",
    "w = 5   # Width of the line\n",
    "offset = 0\n",
    "\n",
    "# Initialize arrays for results\n",
    "radii = []\n",
    "directions = []\n",
    "theta_filtered = []\n",
    "\n",
    "# Perform computations for each theta\n",
    "for theta in theta_values:\n",
    "    l_4 = l / 4\n",
    "    wm = w / 2\n",
    "    theta_offset = theta + offset\n",
    "    m_theta1 = np.arctan2(l_4 / np.pi + wm, l_4 / 2)\n",
    "    m_theta2 = np.arctan2(l_4 / np.pi + wm, -l_4 / 2)\n",
    "    m_theta3 = np.arctan2(-l_4 / np.pi - wm, -l_4 / 2) + 2 * np.pi\n",
    "    m_theta4 = np.arctan2(-l_4 / np.pi - wm, l_4 / 2)\n",
    "    r = l_4 / np.pi + wm\n",
    "\n",
    "    # Initialize rs and dir to None\n",
    "    rs = None\n",
    "    dir = None\n",
    "\n",
    "    # Compute circle direction directly within the loop\n",
    "    if m_theta4 < theta_offset < m_theta1:\n",
    "        rs = l_4 / 2 * np.cos(theta_offset) + np.sqrt(r ** 2 - (l_4 / 2) ** 2 * np.sin(theta_offset) ** 2)\n",
    "        x = rs * np.cos(theta_offset)\n",
    "        y = rs * np.sin(theta_offset)\n",
    "        if x > 0:\n",
    "            circ_theta = np.arctan2(y, x - l_4 / 2)\n",
    "        else:\n",
    "            circ_theta = np.arctan2(y, x + l_4 / 2)\n",
    "        dir = np.array([np.cos(circ_theta), np.sin(circ_theta)])\n",
    "    elif m_theta4 + 2 * np.pi < theta_offset < m_theta1 + 2 * np.pi:\n",
    "        rs = l_4 / 2 * np.cos(theta_offset) + np.sqrt(r ** 2 - (l_4 / 2) ** 2 * np.sin(theta_offset) ** 2)\n",
    "        x = rs * np.cos(theta_offset)\n",
    "        y = rs * np.sin(theta_offset)\n",
    "        if x > 0:\n",
    "            circ_theta = np.arctan2(y, x - l_4 / 2)\n",
    "        else:\n",
    "            circ_theta = np.arctan2(y, x + l_4 / 2)\n",
    "        dir = np.array([np.cos(circ_theta), np.sin(circ_theta)])\n",
    "    elif m_theta1 < theta_offset < m_theta2:\n",
    "        if np.sin(theta_offset) != 0:  # Prevent division by zero\n",
    "            rs = r / np.sin(theta_offset)\n",
    "            dir = np.array([-np.sin(-offset), np.cos(-offset)])\n",
    "    elif m_theta2 < theta_offset < m_theta3:\n",
    "        rs = -l_4 / 2 * np.cos(theta_offset) + np.sqrt(r ** 2 - (l_4 / 2) ** 2 * np.sin(theta_offset) ** 2)\n",
    "        x = rs * np.cos(theta_offset)\n",
    "        y = rs * np.sin(theta_offset)\n",
    "        if x > 0:\n",
    "            circ_theta = np.arctan2(y, x - l_4 / 2)\n",
    "        else:\n",
    "            circ_theta = np.arctan2(y, x + l_4 / 2)\n",
    "        dir = np.array([np.cos(circ_theta), np.sin(circ_theta)])\n",
    "    elif m_theta3 < theta_offset < m_theta4 + 2 * np.pi:\n",
    "        if np.sin(theta_offset) != 0:  # Prevent division by zero\n",
    "            rs = -r / np.sin(theta_offset)\n",
    "            dir = np.array([np.sin(-offset), -np.cos(-offset)])\n",
    "\n",
    "    if rs is not None:\n",
    "        radii.append(rs)\n",
    "        directions.append(dir)\n",
    "        theta_filtered.append(theta)\n",
    "\n",
    "# Ensure arrays are of same length before plotting\n",
    "if len(radii) == len(directions) == len(theta_filtered):\n",
    "    # Plotting the radius\n",
    "    plt.figure(figsize=(8, 6))\n",
    "    plt.plot(theta_filtered, radii, label='Radius of closest point')\n",
    "    plt.xlabel('Theta (radians)')\n",
    "    plt.ylabel('Radius')\n",
    "    plt.title('Radius of Closest Point in Line vs. Theta')\n",
    "    plt.legend()\n",
    "    plt.grid(True)\n",
    "    plt.show()\n",
    "\n",
    "    # Plotting the directions\n",
    "    plt.figure(figsize=(8, 6))\n",
    "    for theta, direction in zip(theta_filtered, directions):\n",
    "        plt.arrow(theta, 0, 0, direction[1], head_width=0.05, head_length=0.1, fc='blue', ec='blue')\n",
    "    plt.xlabel('Theta (radians)')\n",
    "    plt.ylabel('Direction')\n",
    "    plt.title('Direction Vectors at Closest Points')\n",
    "    plt.grid(True)\n",
    "    plt.show()\n",
    "else:\n",
    "    print(\"Error: The lengths of the results arrays do not match.\")\n"
   ]
  },
  {
   "cell_type": "code",
   "execution_count": null,
   "metadata": {},
   "outputs": [],
   "source": []
  }
 ],
 "metadata": {
  "kernelspec": {
   "display_name": "saber",
   "language": "python",
   "name": "python3"
  },
  "language_info": {
   "codemirror_mode": {
    "name": "ipython",
    "version": 3
   },
   "file_extension": ".py",
   "mimetype": "text/x-python",
   "name": "python",
   "nbconvert_exporter": "python",
   "pygments_lexer": "ipython3",
   "version": "3.11.3"
  }
 },
 "nbformat": 4,
 "nbformat_minor": 2
}
